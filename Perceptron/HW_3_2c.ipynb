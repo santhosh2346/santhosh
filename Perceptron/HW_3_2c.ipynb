{
 "cells": [
  {
   "cell_type": "code",
   "execution_count": null,
   "id": "d7bbca40",
   "metadata": {},
   "outputs": [
    {
     "name": "stdout",
     "output_type": "stream",
     "text": [
      "Epoch 1: 497 misclassifications\n",
      "Epoch 2: 482 misclassifications\n",
      "Epoch 3: 482 misclassifications\n",
      "Epoch 4: 482 misclassifications\n",
      "Epoch 5: 482 misclassifications\n",
      "Epoch 6: 482 misclassifications\n",
      "Epoch 7: 482 misclassifications\n",
      "Epoch 8: 482 misclassifications\n",
      "Epoch 9: 482 misclassifications\n",
      "Epoch 10: 482 misclassifications\n",
      "Learned Weight Vector:\n",
      "[ -3.26410499  -3.49477987  -4.11084936 -11.00211475]\n",
      "Bias (b): 26.531334022750777\n",
      "Average Prediction Error on Test Data: 0.5591182364729459\n"
     ]
    }
   ],
   "source": [
    "import numpy as np\n",
    "import pandas as pd\n",
    "\n",
    "# Load the training and testing datasets\n",
    "train_data = pd.read_csv(\"dataset/bank-note/train.csv\")\n",
    "test_data = pd.read_csv(\"dataset/bank-note/test.csv\")\n",
    "\n",
    "# Separate features and labels\n",
    "X_train = train_data.iloc[:, :-1].values\n",
    "y_train = train_data.iloc[:, -1].values\n",
    "X_test = test_data.iloc[:, :-1].values\n",
    "y_test = test_data.iloc[:, -1].values\n",
    "\n",
    "# Initialize weights and bias\n",
    "num_features = X_train.shape[1]\n",
    "w = np.zeros(num_features)\n",
    "b = 0\n",
    "\n",
    "# Set the number of epochs\n",
    "T = 10\n",
    "\n",
    "# Variables for averaging\n",
    "avg_w = w.copy()\n",
    "avg_b = b\n",
    "total_updates = 0\n",
    "\n",
    "# Perceptron training process\n",
    "for epoch in range(T):\n",
    "    errors = 0\n",
    "    for i in range(len(X_train)):\n",
    "        prediction = np.dot(w, X_train[i]) + b\n",
    "        if prediction * y_train[i] <= 0:\n",
    "            w += y_train[i] * X_train[i]\n",
    "            b += y_train[i]\n",
    "            errors += 1\n",
    "            total_updates += 1\n",
    "\n",
    "        # Update the running average for weights and bias\n",
    "        avg_w += w\n",
    "        avg_b += b\n",
    "\n",
    "    print(f\"Epoch {epoch + 1}: {errors} misclassified samples\")\n",
    "\n",
    "# Calculate the average weight vector and bias\n",
    "avg_w /= total_updates\n",
    "avg_b /= total_updates\n",
    "\n",
    "# Output the final learned weights and bias\n",
    "print(\"Final Averaged Weight Vector:\")\n",
    "print(avg_w)\n",
    "print(\"Averaged Bias:\", avg_b)\n",
    "\n",
    "# Make predictions on the test set\n",
    "test_predictions = np.sign(np.dot(X_test, avg_w) + avg_b)\n",
    "\n",
    "# Calculate and print the average error rate\n",
    "average_error = np.mean(test_predictions != y_test)\n",
    "print(\"Average Error Rate on Test Set:\", average_error)\n"
   ]
  },
  {
   "cell_type": "code",
   "execution_count": null,
   "id": "b1d99262",
   "metadata": {},
   "outputs": [],
   "source": []
  }
 ],
 "metadata": {
  "kernelspec": {
   "display_name": "Python 3 (ipykernel)",
   "language": "python",
   "name": "python3"
  },
  "language_info": {
   "codemirror_mode": {
    "name": "ipython",
    "version": 3
   },
   "file_extension": ".py",
   "mimetype": "text/x-python",
   "name": "python",
   "nbconvert_exporter": "python",
   "pygments_lexer": "ipython3",
   "version": "3.11.4"
  }
 },
 "nbformat": 4,
 "nbformat_minor": 5
}
