{
 "cells": [
  {
   "cell_type": "code",
   "execution_count": null,
   "id": "5259eccd",
   "metadata": {},
   "outputs": [
    {
     "name": "stdout",
     "output_type": "stream",
     "text": [
      "Learned Weight Vector: [-1.88312856 -1.4068138  -1.7351032  -1.16960836]\n",
      "Average Prediction Error on Test Data: 0.658\n"
     ]
    }
   ],
   "source": [
    "import numpy as np\n",
    "\n",
    "# Load and prepare data\n",
    "def load_and_prepare_data(file_path):\n",
    "    data = np.genfromtxt(file_path, delimiter=',')\n",
    "    X = data[:, :-1]  # Input features\n",
    "    y = data[:, -1]   # Output labels\n",
    "    return X, y\n",
    "\n",
    "# Initialize the weights\n",
    "def initialize_weights(X):\n",
    "    return np.zeros(X.shape[1])\n",
    "\n",
    "# Perceptron training function\n",
    "def train_perceptron(X_train, y_train, max_epochs, learning_rate):\n",
    "    w = initialize_weights(X_train)\n",
    "    for epoch in range(max_epochs):\n",
    "        for i in range(len(X_train)):\n",
    "            if y_train[i] * np.dot(w, X_train[i]) <= 0:\n",
    "                w += learning_rate * y_train[i] * X_train[i]\n",
    "    return w\n",
    "\n",
    "# Perceptron testing function\n",
    "def evaluate_perceptron(w, X_test, y_test):\n",
    "    error_count = sum(y_test[i] * np.dot(w, X_test[i]) <= 0 for i in range(len(X_test)))\n",
    "    average_error = error_count / len(X_test)\n",
    "    return average_error\n",
    "\n",
    "# Main execution\n",
    "def main():\n",
    "    # Load and prepare the training and testing datasets\n",
    "    X_train, y_train = load_and_prepare_data(\"dataset/bank-note/train.csv\")\n",
    "    X_test, y_test = load_and_prepare_data(\"dataset/bank-note/test.csv\")\n",
    "\n",
    "    # Set training parameters\n",
    "    learning_rate = 0.1\n",
    "    max_epochs = 10\n",
    "\n",
    "    # Train the model\n",
    "    trained_weight_vector = train_perceptron(X_train, y_train, max_epochs, learning_rate)\n",
    "\n",
    "    # Test the model\n",
    "    average_error_rate = evaluate_perceptron(trained_weight_vector, X_test, y_test)\n",
    "\n",
    "    # Display results\n",
    "    print(\"Trained Weight Vector:\", trained_weight_vector)\n",
    "    print(\"Average Error Rate on Test Data:\", average_error_rate)\n",
    "\n",
    "if __name__ == \"__main__\":\n",
    "    main()\n"
   ]
  },
  {
   "cell_type": "code",
   "execution_count": null,
   "id": "bcd0453b",
   "metadata": {},
   "outputs": [],
   "source": []
  }
 ],
 "metadata": {
  "kernelspec": {
   "display_name": "Python 3 (ipykernel)",
   "language": "python",
   "name": "python3"
  },
  "language_info": {
   "codemirror_mode": {
    "name": "ipython",
    "version": 3
   },
   "file_extension": ".py",
   "mimetype": "text/x-python",
   "name": "python",
   "nbconvert_exporter": "python",
   "pygments_lexer": "ipython3",
   "version": "3.11.4"
  }
 },
 "nbformat": 4,
 "nbformat_minor": 5
}
