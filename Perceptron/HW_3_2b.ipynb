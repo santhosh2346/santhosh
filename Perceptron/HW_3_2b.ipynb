{
 "cells": [
  {
   "cell_type": "code",
   "execution_count": 5,
   "id": "e7794663-583b-4509-9029-c7ed22de7390",
   "metadata": {},
   "outputs": [
    {
     "name": "stdout",
     "output_type": "stream",
     "text": [
      "Distinct Weight Vectors and Their Counts:\n",
      "Weight Vector: [-12.2665776  -7.8265     -6.865495   -6.1982902], Correctly Predicted: 328\n",
      "Weight Vector: [ -9.7568017 -12.000472   -6.018925   -7.0182302], Correctly Predicted: 319\n",
      "Weight Vector: [-12.9323656  -9.606395   -3.28569   -15.1659302], Correctly Predicted: 322\n",
      "Weight Vector: [-13.4807966 -10.611955   -3.620055  -12.7522272], Correctly Predicted: 320\n",
      "Weight Vector: [-13.0163407 -13.318698   -0.743488   -3.8173032], Correctly Predicted: 318\n",
      "Weight Vector: [-10.0841294  -5.763855   -5.178865   -8.3548716], Correctly Predicted: 315\n",
      "Weight Vector: [-13.4950024 -10.220625   -4.5937606 -11.0487506], Correctly Predicted: 322\n",
      "Weight Vector: [-12.7151467 -15.127045    0.579005   -8.1113342], Correctly Predicted: 314\n",
      "Weight Vector: [-14.5986646  -8.019115   -7.088168  -14.9544252], Correctly Predicted: 317\n",
      "Weight Vector: [-16.0233367  -4.528274   -8.8793916 -23.7619252], Correctly Predicted: 312\n",
      "Average Test Error: 62.00%\n"
     ]
    }
   ],
   "source": [
    "import numpy as np\n",
    "import pandas as pd\n",
    "\n",
    "# Load the data\n",
    "train_data = pd.read_csv(\"datasets/bank-note/train.csv\", header=None)\n",
    "test_data = pd.read_csv(\"datasets/bank-note/test.csv\", header=None)\n",
    "\n",
    "# Extract features and labels\n",
    "X_train = train_data.iloc[:, :-1].values\n",
    "y_train = train_data.iloc[:, -1].values\n",
    "X_test = test_data.iloc[:, :-1].values\n",
    "y_test = test_data.iloc[:, -1].values\n",
    "\n",
    "T = 10  # Maximum number of epochs\n",
    "\n",
    "distinct_weight_vectors = []\n",
    "weight_vector_counts = []\n",
    "\n",
    "for epoch in range(1, T + 1):\n",
    "    # Initialize the weight vector for this epoch\n",
    "    weight_vector = np.zeros(X_train.shape[1])\n",
    "    correctly_predicted_count = 0\n",
    "\n",
    "    # Shuffle the training data\n",
    "    shuffle_indices = np.random.permutation(len(X_train))\n",
    "    X_train_shuffled = X_train[shuffle_indices]\n",
    "    y_train_shuffled = y_train[shuffle_indices]\n",
    "\n",
    "    for i in range(len(X_train_shuffled)):\n",
    "        # Perceptron update\n",
    "        prediction = np.sign(np.dot(weight_vector, X_train_shuffled[i]))\n",
    "        if prediction * y_train_shuffled[i] <= 0:\n",
    "            weight_vector += y_train_shuffled[i] * X_train_shuffled[i]\n",
    "        else:\n",
    "            correctly_predicted_count += 1\n",
    "\n",
    "    # Store the distinct weight vectors and their counts\n",
    "    if not any(np.array_equal(weight_vector, w) for w in distinct_weight_vectors):\n",
    "        distinct_weight_vectors.append(weight_vector)\n",
    "        weight_vector_counts.append(correctly_predicted_count)\n",
    "\n",
    "# Testing\n",
    "test_errors = 0\n",
    "for i in range(len(X_test)):\n",
    "    votes = [np.sign(np.dot(weight, X_test[i])) for weight in distinct_weight_vectors]\n",
    "    predicted_label = max(set(votes), key=votes.count)\n",
    "    if predicted_label != y_test[i]:\n",
    "        test_errors += 1\n",
    "\n",
    "# Calculate the average test error\n",
    "average_test_error = test_errors / len(X_test) * 100\n",
    "\n",
    "print(\"Distinct Weight Vectors and Their Counts:\")\n",
    "for weight, count in zip(distinct_weight_vectors, weight_vector_counts):\n",
    "    print(f\"Weight Vector: {weight}, Correctly Predicted: {count}\")\n",
    "\n",
    "print(f\"Average Test Error: {average_test_error:.2f}%\")\n"
   ]
  },
  {
   "cell_type": "code",
   "execution_count": null,
   "id": "fe4a5926-d825-44dc-976a-ebc4c9f672e9",
   "metadata": {},
   "outputs": [],
   "source": []
  }
 ],
 "metadata": {
  "kernelspec": {
   "display_name": "Python 3 (ipykernel)",
   "language": "python",
   "name": "python3"
  },
  "language_info": {
   "codemirror_mode": {
    "name": "ipython",
    "version": 3
   },
   "file_extension": ".py",
   "mimetype": "text/x-python",
   "name": "python",
   "nbconvert_exporter": "python",
   "pygments_lexer": "ipython3",
   "version": "3.12.4"
  }
 },
 "nbformat": 4,
 "nbformat_minor": 5
}
