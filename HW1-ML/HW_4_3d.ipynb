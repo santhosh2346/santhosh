{
 "cells": [
  {
   "cell_type": "code",
   "execution_count": 9,
   "id": "9fbc3fd0",
   "metadata": {},
   "outputs": [
    {
     "name": "stdout",
     "output_type": "stream",
     "text": [
      "Gamma: 0.1, Training Error: 0.6915137614678899, Test Error: 0.964\n",
      "Gamma: 0.5, Training Error: 1.0, Test Error: 1.0\n",
      "Gamma: 1, Training Error: 1.0, Test Error: 1.0\n",
      "Gamma: 5, Training Error: 1.0, Test Error: 1.0\n",
      "Gamma: 100, Training Error: 1.0, Test Error: 1.0\n"
     ]
    }
   ],
   "source": [
    "import numpy as np\n",
    "import pandas as pd\n",
    "from sklearn.preprocessing import StandardScaler\n",
    "\n",
    "# Load and preprocess the training and testing data\n",
    "train_data = pd.read_csv(\"dataset/bank-note/train.csv\", header=None)\n",
    "test_data = pd.read_csv(\"dataset/bank-note/test.csv\", header=None)\n",
    "\n",
    "train_data.iloc[:, -1] = train_data.iloc[:, -1].map({1: 1, 0: -1})\n",
    "test_data.iloc[:, -1] = test_data.iloc[:, -1].map({1: 1, 0: -1})\n",
    "\n",
    "X_train = train_data.iloc[:, :-1].values\n",
    "y_train = train_data.iloc[:, -1].values\n",
    "\n",
    "scaler = StandardScaler()\n",
    "X_train = scaler.fit_transform(X_train)\n",
    "\n",
    "def gaussian_kernel(x, y, gamma):\n",
    "    return np.exp(-gamma * np.linalg.norm(x - y) ** 2)\n",
    "\n",
    "def kernel_perceptron_train(X, y, gamma, max_iter=100, learning_rate=0.1):\n",
    "    n_samples, n_features = X.shape\n",
    "    alpha = np.zeros(n_samples)\n",
    "\n",
    "    for _ in range(max_iter):\n",
    "        for i in range(n_samples):\n",
    "            prediction = np.sum(alpha * y * gaussian_kernel(X[i], X, gamma))\n",
    "            if prediction * y[i] <= 0:\n",
    "                alpha[i] += learning_rate\n",
    "\n",
    "    return alpha\n",
    "\n",
    "def kernel_perceptron_predict(X_train, y_train, X_test, alpha, gamma):\n",
    "    n_train = len(y_train)\n",
    "    n_test = len(X_test)\n",
    "    predictions = np.zeros(n_test)\n",
    "\n",
    "    for i in range(n_test):\n",
    "        prediction = np.sum(alpha * y_train * gaussian_kernel(X_test[i], X_train, gamma))\n",
    "        predictions[i] = np.sign(prediction)\n",
    "\n",
    "    return predictions\n",
    "\n",
    "# Convert data to NumPy arrays\n",
    "X_train_np = X_train\n",
    "y_train_np = y_train\n",
    "\n",
    "\n",
    "# Fixed gamma values\n",
    "gamma_values = [0.1, 0.5, 1, 5, 100]\n",
    "\n",
    "for gamma in gamma_values:\n",
    "    alpha = kernel_perceptron_train(X_train_np, y_train_np, gamma)\n",
    "    train_predictions = kernel_perceptron_predict(X_train_np, y_train_np, X_train_np, alpha, gamma)\n",
    "    test_predictions = kernel_perceptron_predict(X_train_np, y_train_np, X_test, alpha, gamma)\n",
    "\n",
    "    train_error = np.mean(train_predictions != y_train_np)\n",
    "    test_error = np.mean(test_predictions != y_test)\n",
    "\n",
    "    print(f\"Gamma: {gamma}, Training Error: {train_error}, Test Error: {test_error}\")\n"
   ]
  },
  {
   "cell_type": "code",
   "execution_count": null,
   "id": "b159b353",
   "metadata": {},
   "outputs": [],
   "source": []
  }
 ],
 "metadata": {
  "kernelspec": {
   "display_name": "Python 3 (ipykernel)",
   "language": "python",
   "name": "python3"
  },
  "language_info": {
   "codemirror_mode": {
    "name": "ipython",
    "version": 3
   },
   "file_extension": ".py",
   "mimetype": "text/x-python",
   "name": "python",
   "nbconvert_exporter": "python",
   "pygments_lexer": "ipython3",
   "version": "3.11.4"
  }
 },
 "nbformat": 4,
 "nbformat_minor": 5
}
