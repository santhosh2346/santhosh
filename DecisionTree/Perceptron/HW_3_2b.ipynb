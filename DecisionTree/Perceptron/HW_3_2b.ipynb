{
 "cells": [
  {
   "cell_type": "code",
   "execution_count": null,
   "id": "9a39bb20",
   "metadata": {},
   "outputs": [
    {
     "name": "stdout",
     "output_type": "stream",
     "text": [
      "Distinct Weight Vectors and Their Counts:\n",
      "Weight Vector: [-10.8539997 -11.17523    -3.321218   -7.4427952], Correctly Predicted: 317\n",
      "Weight Vector: [-18.1891625  -8.671183   -5.5532456 -19.3512206], Correctly Predicted: 318\n",
      "Weight Vector: [ -9.0522607 -10.649155   -7.010688  -10.3062392], Correctly Predicted: 321\n",
      "Weight Vector: [ -9.2390727  -9.240155   -9.881265  -10.3453052], Correctly Predicted: 319\n",
      "Weight Vector: [-12.3147914  -5.455255   -4.350441   -9.6941496], Correctly Predicted: 323\n",
      "Weight Vector: [-14.0842077  -5.453563   -5.97261   -17.8325452], Correctly Predicted: 307\n",
      "Weight Vector: [-20.7541767  -3.313665   -3.908658  -19.6545466], Correctly Predicted: 316\n",
      "Weight Vector: [-14.0486044  -7.485185   -5.258825  -10.7023156], Correctly Predicted: 319\n",
      "Weight Vector: [-13.5785044 -17.999635    8.701365  -15.7682012], Correctly Predicted: 318\n",
      "Weight Vector: [-11.0231655 -10.777548   -3.203265   -8.0548356], Correctly Predicted: 324\n",
      "Average Test Error: 60.40%\n"
     ]
    }
   ],
   "source": [
    "import numpy as np\n",
    "import pandas as pd\n",
    "\n",
    "# Load training and testing datasets\n",
    "train_data = pd.read_csv(\"dataset/bank-note/train.csv\", header=None)\n",
    "test_data = pd.read_csv(\"dataset/bank-note/test.csv\", header=None)\n",
    "\n",
    "# Separate features and labels\n",
    "X_train = train_data.iloc[:, :-1].values\n",
    "y_train = train_data.iloc[:, -1].values\n",
    "X_test = test_data.iloc[:, :-1].values\n",
    "y_test = test_data.iloc[:, -1].values\n",
    "\n",
    "# Define maximum epochs\n",
    "T = 10  \n",
    "\n",
    "# Store unique weight vectors and their counts\n",
    "distinct_weight_vectors = []\n",
    "weight_vector_counts = []\n",
    "\n",
    "# Training loop for each epoch\n",
    "for epoch in range(1, T + 1):\n",
    "    # Initialize weight vector\n",
    "    weight_vector = np.zeros(X_train.shape[1])\n",
    "    correct_count = 0\n",
    "\n",
    "    # Shuffle the training data\n",
    "    shuffle_indices = np.random.permutation(len(X_train))\n",
    "    X_train_shuffled = X_train[shuffle_indices]\n",
    "    y_train_shuffled = y_train[shuffle_indices]\n",
    "\n",
    "    # Update rule for Perceptron\n",
    "    for i in range(len(X_train_shuffled)):\n",
    "        prediction = np.sign(np.dot(weight_vector, X_train_shuffled[i]))\n",
    "        if prediction * y_train_shuffled[i] <= 0:\n",
    "            weight_vector += y_train_shuffled[i] * X_train_shuffled[i]\n",
    "        else:\n",
    "            correct_count += 1\n",
    "\n",
    "    # Record unique weight vectors and counts of correct predictions\n",
    "    if not any(np.array_equal(weight_vector, w) for w in distinct_weight_vectors):\n",
    "        distinct_weight_vectors.append(weight_vector)\n",
    "        weight_vector_counts.append(correct_count)\n",
    "\n",
    "# Testing phase\n",
    "test_errors = 0\n",
    "for i in range(len(X_test)):\n",
    "    # Gather votes based on distinct weight vectors\n",
    "    votes = [np.sign(np.dot(weight, X_test[i])) for weight in distinct_weight_vectors]\n",
    "    predicted_label = max(set(votes), key=votes.count)\n",
    "    if predicted_label != y_test[i]:\n",
    "        test_errors += 1\n",
    "\n",
    "# Calculate the average test error as a percentage\n",
    "average_test_error = (test_errors / len(X_test)) * 100\n",
    "\n",
    "# Output results\n",
    "print(\"Distinct Weight Vectors and Correct Prediction Counts:\")\n",
    "for weight, count in zip(distinct_weight_vectors, weight_vector_counts):\n",
    "    print(f\"Weight Vector: {weight}, Correctly Predicted: {count}\")\n",
    "\n",
    "print(f\"Average Test Error: {average_test_error:.2f}%\")\n"
   ]
  },
  {
   "cell_type": "code",
   "execution_count": null,
   "id": "fab33543",
   "metadata": {},
   "outputs": [],
   "source": []
  }
 ],
 "metadata": {
  "kernelspec": {
   "display_name": "Python 3 (ipykernel)",
   "language": "python",
   "name": "python3"
  },
  "language_info": {
   "codemirror_mode": {
    "name": "ipython",
    "version": 3
   },
   "file_extension": ".py",
   "mimetype": "text/x-python",
   "name": "python",
   "nbconvert_exporter": "python",
   "pygments_lexer": "ipython3",
   "version": "3.11.4"
  }
 },
 "nbformat": 4,
 "nbformat_minor": 5
}
